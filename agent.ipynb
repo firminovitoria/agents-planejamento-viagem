{
 "cells": [
  {
   "cell_type": "code",
   "execution_count": 10,
   "metadata": {},
   "outputs": [],
   "source": [
    "from dotenv import load_dotenv\n",
    "_ = load_dotenv()\n",
    "from crewai import Crew, Process, Agent, Task"
   ]
  },
  {
   "cell_type": "code",
   "execution_count": 11,
   "metadata": {},
   "outputs": [],
   "source": [
    "planejador_de_viagem = Agent(\n",
    "    role=\"Planejador de Viagem\",\n",
    "    goal=\"Planejar todos os detalhes de uma viagem, incluindo roteiros e atividades\",\n",
    "    backstory=\"\"\"\n",
    "    Você é um especialista em planejamento de viagens, sempre em busca de novas aventuras e experiências. Seu objetivo é garantir os detalhes da viagem sejam organizados de maneira eficiente e agradável.\n",
    "    \"\"\",\n",
    "    verbose=True\n",
    ")"
   ]
  },
  {
   "cell_type": "code",
   "execution_count": 12,
   "metadata": {},
   "outputs": [],
   "source": [
    "orcamentista = Agent(\n",
    "    role=\"Orçamentista de Viagem\",\n",
    "    goal=\"Estimar o custo total de uma viagem, considerando transporte, hospedagem, alimentação e atividades\",\n",
    "    backstory=\"\"\"\n",
    "    Você é um analista financeiro focado em viagem. Sua missão é garantir que os custos estejam\n",
    "    dentro do orçamento, criando estimativas precisas para cada parte da viagem.\n",
    "    \"\"\"\n",
    ")"
   ]
  },
  {
   "cell_type": "code",
   "execution_count": 13,
   "metadata": {},
   "outputs": [],
   "source": [
    "planeja_roteiro = Task(\n",
    "    description=\"Crie um roteiro detalhado para uma viagem na Europa, incluindo as cidades, atividades e transporte\",\n",
    "    agent=planejador_de_viagem,\n",
    "    expected_output=\"\"\"\n",
    "    Um roteiro com a sequência de cidades a serem visitadas, as principais atividades e o tipo de transporte utilizado.\n",
    "    \"\"\"\n",
    ")"
   ]
  },
  {
   "cell_type": "code",
   "execution_count": 14,
   "metadata": {},
   "outputs": [],
   "source": [
    "estima_orcamento = Task(\n",
    "    description=\"\"\"\n",
    "    Calcule o orçamento total da viagem, levando em consideração as cidades, transporte, hospedagem e atividades\" \\\n",
    "    \"\"\",\n",
    "    agent=orcamentista,\n",
    "    expected_output=\"\"\"\n",
    "    Uma estimativa de orçamento detalhada, com custos aproximados para cada item da viagem\n",
    "    \"\"\"\n",
    ")"
   ]
  },
  {
   "cell_type": "code",
   "execution_count": 15,
   "metadata": {},
   "outputs": [],
   "source": [
    "viagem_crew = Crew(\n",
    "    agents=[planejador_de_viagem, orcamentista],\n",
    "    tasks=[planeja_roteiro, estima_orcamento],\n",
    "    process=Process.sequential\n",
    ")"
   ]
  },
  {
   "cell_type": "code",
   "execution_count": 16,
   "metadata": {},
   "outputs": [
    {
     "name": "stdout",
     "output_type": "stream",
     "text": [
      "\u001b[1m\u001b[95m# Agent:\u001b[00m \u001b[1m\u001b[92mPlanejador de Viagem\u001b[00m\n",
      "\u001b[95m## Task:\u001b[00m \u001b[92mCrie um roteiro detalhado para uma viagem na Europa, incluindo as cidades, atividades e transporte\u001b[00m\n"
     ]
    },
    {
     "name": "stdout",
     "output_type": "stream",
     "text": [
      "\n",
      "\n",
      "\u001b[1m\u001b[95m# Agent:\u001b[00m \u001b[1m\u001b[92mPlanejador de Viagem\u001b[00m\n",
      "\u001b[95m## Final Answer:\u001b[00m \u001b[92m\n",
      "**Roteiro Detalhado para uma Viagem na Europa (14 dias)**\n",
      "\n",
      "**Dias 1-3: Lisboa, Portugal**  \n",
      "- **Transporte:** Voo para Lisboa  \n",
      "- **Atividades:**  \n",
      "  - Dia 1: Chegada e check-in no hotel. Passeio pelo Bairro Alto e jantar num restaurante local.  \n",
      "  - Dia 2: Visita ao Mosteiro dos Jerónimos, Torre de Belém e Museu dos Descobrimentos. À noite, degustação de Fado na Alfama.  \n",
      "  - Dia 3: Excursão a Sintra para visitar o Palácio da Pena e o Castelo dos Mouros. Retorno a Lisboa e relaxar na Praça do Comércio.\n",
      "\n",
      "**Dias 4-6: Barcelona, Espanha**  \n",
      "- **Transporte:** Voo de Lisboa a Barcelona  \n",
      "- **Atividades:**  \n",
      "  - Dia 4: Chegada e check-in no hotel. Passeio pela Rambla e visita ao Mercado La Boqueria.  \n",
      "  - Dia 5: Dia inteiro explorando as obras de Gaudí: Basílica da Sagrada Família, Parque Güell e Casa Batlló. \n",
      "  - Dia 6: Visita ao Museu Picasso e ao Bairro Gótico. Jantar em um tapas bar.\n",
      "\n",
      "**Dias 7-9: Paris, França**  \n",
      "- **Transporte:** Trem de alta velocidade (TGV) de Barcelona a Paris  \n",
      "- **Atividades:**  \n",
      "  - Dia 7: Chegada e check-in no hotel. Visita ao Arco do Triunfo e passeio pela Champs-Élysées.  \n",
      "  - Dia 8: Dia completo no Museu do Louvre e passeio pelo Jardins de Tuileries. À noite, cruzeiro pelo Rio Sena.  \n",
      "  - Dia 9: Visita à Torre Eiffel de manhã e, à tarde, passeio pelo bairro de Montmartre e visita à Basílica de Sacré-Cœur.\n",
      "\n",
      "**Dias 10-12: Roma, Itália**  \n",
      "- **Transporte:** Voo de Paris para Roma  \n",
      "- **Atividades:**  \n",
      "  - Dia 10: Chegada e check-in no hotel. Visita ao Coliseu e ao Fórum Romano.  \n",
      "  - Dia 11: Visita ao Vaticano, explorando a Basílica de São Pedro e os Museus Vaticanos, incluindo a Capela Sistina.  \n",
      "  - Dia 12: Dia livre para passeios: Fontana di Trevi, Panteão e degustação de gelato em Trastevere.\n",
      "\n",
      "**Dias 13-14: Atenas, Grécia**  \n",
      "- **Transporte:** Voo de Roma para Atenas  \n",
      "- **Atividades:**  \n",
      "  - Dia 13: Chegada e check-in no hotel. Visita à Acrópole e ao Parthenon.  \n",
      "  - Dia 14: Exploração do bairro de Plaka, com suas lojas e tabernas. Tarde livre para compras ou visita ao Museu Arqueológico Nacional antes do voo de volta.\n",
      "\n",
      "**Dicas de Transporte:**  \n",
      "- Utilize voos de baixo custo e trens de alta velocidade para economizar tempo e oferecer conforto entre as cidades.  \n",
      "- Dentro das cidades, o transporte público é uma ótima opção; considere adquirir passes diários ou bilhetes de transporte ilimitados.\n",
      "\n",
      "Com este roteiro, você terá uma incrível e diversificada experiência ao explorar algumas das mais belas cidades da Europa, combinando cultura, gastronomia e história. Aproveite sua viagem!\u001b[00m\n",
      "\n",
      "\n"
     ]
    }
   ],
   "source": [
    "result = viagem_crew.kickoff()"
   ]
  },
  {
   "cell_type": "code",
   "execution_count": 17,
   "metadata": {},
   "outputs": [
    {
     "name": "stdout",
     "output_type": "stream",
     "text": [
      "**Estimativa de Orçamento Detalhada para a Viagem na Europa (14 Dias)**\n",
      "\n",
      "**1. Transporte**  \n",
      "- **Voo para Lisboa (ida):** R$ 2.000,00  \n",
      "- **Voo de Lisboa a Barcelona:** R$ 500,00  \n",
      "- **Trem TGV de Barcelona a Paris:** R$ 700,00  \n",
      "- **Voo de Paris a Roma:** R$ 500,00  \n",
      "- **Voo de Roma a Atenas:** R$ 600,00  \n",
      "- **Transporte público nas cidades (passes diários para 14 dias):** R$ 500,00  \n",
      "\n",
      "**Total Transporte:** R$ 4.400,00  \n",
      "\n",
      "**2. Hospedagem (14 noites)**  \n",
      "- **Lisboa (3 noites):** R$ 600,00 por noite x 3 = R$ 1.800,00  \n",
      "- **Barcelona (3 noites):** R$ 700,00 por noite x 3 = R$ 2.100,00  \n",
      "- **Paris (3 noites):** R$ 800,00 por noite x 3 = R$ 2.400,00  \n",
      "- **Roma (3 noites):** R$ 750,00 por noite x 3 = R$ 2.250,00  \n",
      "- **Atenas (2 noites):** R$ 600,00 por noite x 2 = R$ 1.200,00  \n",
      "\n",
      "**Total Hospedagem:** R$ 10.750,00  \n",
      "\n",
      "**3. Alimentação (14 dias)**  \n",
      "- **Café da Manhã:** R$ 30,00 por dia x 14 = R$ 420,00  \n",
      "- **Almoço:** R$ 60,00 por dia x 14 = R$ 840,00  \n",
      "- **Jantar:** R$ 80,00 por dia x 14 = R$ 1.120,00  \n",
      "\n",
      "**Total Alimentação:** R$ 2.380,00  \n",
      "\n",
      "**4. Atividades**  \n",
      "- **Lisboa:**  \n",
      "  - Passeio pelo Bairro Alto: Grátis  \n",
      "  - Entrada para Museu dos Descobrimentos: R$ 40,00  \n",
      "  - Degustação de Fado: R$ 70,00  \n",
      "  - Excursão a Sintra: R$ 150,00  \n",
      "- **Barcelona:**  \n",
      "  - Entrada Basílica da Sagrada Família: R$ 90,00  \n",
      "  - Entrada Parque Güell: R$ 50,00  \n",
      "  - Entrada Museu Picasso: R$ 50,00  \n",
      "- **Paris:**  \n",
      "  - Entrada Museu do Louvre: R$ 100,00  \n",
      "  - Cruzeiro pelo Rio Sena: R$ 80,00  \n",
      "  - Entrada Torre Eiffel: R$ 40,00  \n",
      "- **Roma:**  \n",
      "  - Entrada Coliseu e Fórum Romano: R$ 80,00  \n",
      "  - Entrada Basílica de São Pedro: Grátis  \n",
      "  - Entrada Museus Vaticanos: R$ 90,00  \n",
      "- **Atenas:**  \n",
      "  - Entrada à Acrópole e Parthenon: R$ 80,00  \n",
      "  - Entrada Museu Arqueológico Nacional: R$ 40,00  \n",
      "\n",
      "**Total Atividades:** R$ 1.850,00  \n",
      "\n",
      "**Custo Total da Viagem**  \n",
      "- Transporte: R$ 4.400,00  \n",
      "- Hospedagem: R$ 10.750,00  \n",
      "- Alimentação: R$ 2.380,00  \n",
      "- Atividades: R$ 1.850,00  \n",
      "\n",
      "**Custo Total Estimado:** R$ 19.380,00  \n",
      "\n",
      "Este orçamento abrangente contempla todas as despesas esperadas para a viagem, permitindo que você aproveite ao máximo a sua experiência na Europa sem surpresas financeiras. Boa viagem!\n"
     ]
    }
   ],
   "source": [
    "print(result.raw)"
   ]
  }
 ],
 "metadata": {
  "kernelspec": {
   "display_name": ".venv",
   "language": "python",
   "name": "python3"
  },
  "language_info": {
   "codemirror_mode": {
    "name": "ipython",
    "version": 3
   },
   "file_extension": ".py",
   "mimetype": "text/x-python",
   "name": "python",
   "nbconvert_exporter": "python",
   "pygments_lexer": "ipython3",
   "version": "3.11.5"
  }
 },
 "nbformat": 4,
 "nbformat_minor": 2
}
